{
  "nbformat": 4,
  "nbformat_minor": 0,
  "metadata": {
    "colab": {
      "provenance": [],
      "authorship_tag": "ABX9TyMBPRvu0YPS6RFhz1MKwZ/x",
      "include_colab_link": true
    },
    "kernelspec": {
      "name": "python3",
      "display_name": "Python 3"
    },
    "language_info": {
      "name": "python"
    }
  },
  "cells": [
    {
      "cell_type": "markdown",
      "metadata": {
        "id": "view-in-github",
        "colab_type": "text"
      },
      "source": [
        "<a href=\"https://colab.research.google.com/github/iwaohig/LINEWORKS_API_Playground/blob/main/LINEWORKS_API_Playground.ipynb\" target=\"_parent\"><img src=\"https://colab.research.google.com/assets/colab-badge.svg\" alt=\"Open In Colab\"/></a>"
      ]
    },
    {
      "cell_type": "code",
      "execution_count": 1,
      "metadata": {
        "id": "u4VfyYnixPSp"
      },
      "outputs": [],
      "source": [
        "import requests\n",
        "\n",
        "def send_api_request(token, endpoint_url, method, data=None, params=None):\n",
        "    headers = {\n",
        "        'Authorization': f'Bearer {token}',\n",
        "        'Content-Type': 'application/json',\n",
        "    }\n",
        "\n",
        "    if method == 'GET':\n",
        "        response = requests.get(endpoint_url, headers=headers, params=params)\n",
        "    elif method == 'POST':\n",
        "        response = requests.post(endpoint_url, headers=headers, json=data, params=params)\n",
        "    elif method == 'PUT':\n",
        "        response = requests.put(endpoint_url, headers=headers, json=data, params=params)\n",
        "    elif method == 'DELETE':\n",
        "        response = requests.delete(endpoint_url, headers=headers, params=params)\n",
        "    else:\n",
        "        raise ValueError(\"Invalid method. Supported methods are GET, POST, PUT, DELETE\")\n",
        "\n",
        "    return response"
      ]
    },
    {
      "cell_type": "code",
      "source": [
        "# 変数を指定するセル\n",
        "token = 'YOUR_LINE_WORKS_API_TOKEN'\n",
        "endpoint_url = 'https://www.worksapis.com/v1.0/bots/{botId}/users/{userId}/messages'\n",
        "method = 'POST'\n",
        "params = None\n",
        "data = {\n",
        "  \"content\": {\n",
        "    \"type\": \"text\",\n",
        "    \"text\": \"hello\"\n",
        "  }\n",
        "}"
      ],
      "metadata": {
        "id": "51agDbO_xg4g"
      },
      "execution_count": 2,
      "outputs": []
    },
    {
      "cell_type": "code",
      "source": [
        "# APIリクエストを送信するセル\n",
        "response = send_api_request(token, endpoint_url, method, data=data, params=params)\n",
        "print(\"Response Status Code:\", response.status_code)\n",
        "print(\"Response Text:\", response.text)"
      ],
      "metadata": {
        "id": "tMIxP15Lxl36"
      },
      "execution_count": null,
      "outputs": []
    }
  ]
}